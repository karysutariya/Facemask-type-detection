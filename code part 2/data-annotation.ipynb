{
 "cells": [
  {
   "cell_type": "code",
   "execution_count": 2,
   "metadata": {},
   "outputs": [],
   "source": [
    "import pandas as pd\n",
    "import numpy as np\n",
    "import os\n",
    "import pickle\n",
    "from PIL import Image\n",
    "from sklearn.model_selection import train_test_split\n",
    "from sklearn.metrics import classification_report, confusion_matrix\n",
    "\n",
    "import torch\n",
    "import torch.nn as nn\n",
    "from torchvision.utils import make_grid\n",
    "import torchvision.transforms as transforms\n",
    "import torch.nn.functional as F\n",
    "\n",
    "import matplotlib.pyplot as plt\n",
    "import seaborn as sns"
   ]
  },
  {
   "cell_type": "code",
   "execution_count": 6,
   "metadata": {},
   "outputs": [],
   "source": [
    "DIRECTORY = '../Data part 2/'\n",
    "CATEGORIES = ['Cloth mask','Mask worn incorrectly','N-95_Mask','No Face Mask','Surgical Mask']\n",
    "\n",
    "data = []\n",
    "name = []\n",
    "labels = []\n",
    "\n",
    "for category in CATEGORIES:\n",
    "    path = os.path.join(DIRECTORY, category)\n",
    "\n",
    "    for img in os.listdir(path):\n",
    "        img_path = os.path.join(path, img)\n",
    "        \n",
    "        try:\n",
    "            image = Image.open(img_path)\n",
    "            data.append(image)\n",
    "            name.append(img)\n",
    "            labels.append(category)\n",
    "        except:\n",
    "            pass  \n",
    "    # average1 = average1 /number \n",
    "    # average2 = average2 /number \n",
    "    # print(\"Average for class \",category,\" is \", average1, \"X\", average2)"
   ]
  },
  {
   "cell_type": "code",
   "execution_count": 7,
   "metadata": {},
   "outputs": [],
   "source": [
    "total_images = len(data)\n",
    "train_dataset_size = 1570\n",
    "test_dataset_size = total_images - train_dataset_size\n",
    "test_dataset_percentage = test_dataset_size/total_images\n",
    "data_train, data_test, labels_train, labels_test, name_train, name_test = train_test_split(data, labels, name, test_size=test_dataset_percentage, random_state=42,stratify = labels)"
   ]
  },
  {
   "cell_type": "code",
   "execution_count": 16,
   "metadata": {},
   "outputs": [
    {
     "name": "stdout",
     "output_type": "stream",
     "text": [
      "../Data part 2/N-95_Mask/12.png\n",
      "\n",
      "../Data part 2/No Face Mask/29_0_0_20170116192103987.jpg.chip.jpg\n",
      "\n",
      "../Data part 2/N-95_Mask/N95_Mask1367.jpg\n",
      "\n",
      "../Data part 2/N-95_Mask/23.jpg\n",
      "\n",
      "../Data part 2/Mask worn incorrectly/35200_Mask_Mouth_Chin.jpg\n",
      "\n",
      "../Data part 2/No Face Mask/29_0_0_20170117180936418.jpg.chip.jpg\n",
      "\n"
     ]
    }
   ],
   "source": [
    "f = open('new_annotation.csv','w')\n",
    "i = 0 \n",
    "for im,la,na in zip(data_test,labels_test, name_test):\n",
    "    line1 = \"../Data part 2/\"+la+\"/\"+na+\"\\n\"\n",
    "    print(line1)\n",
    "    f.write(line1)\n",
    "    i+=1\n",
    "    if(i>5):\n",
    "        break\n",
    "    # \n",
    "f.close()"
   ]
  },
  {
   "cell_type": "code",
   "execution_count": 36,
   "metadata": {},
   "outputs": [],
   "source": [
    "import csv\n",
    "f = open('new_annotation.csv','w',newline ='') \n",
    "write = csv.writer(f)\n",
    "ls = []\n",
    "Details = ['Path', 'Gender', 'Age', 'Label'] \n",
    "with open('annotation.csv', 'r') as file:\n",
    "    reader = csv.reader(file)\n",
    "    for row in reader:\n",
    "        temp = row[0].split(\"/\")[2]\n",
    "        row = row + [temp]\n",
    "        ls.append(row)\n",
    "write.writerow(Details)         \n",
    "write.writerows(ls) \n",
    "f.close()  "
   ]
  },
  {
   "cell_type": "code",
   "execution_count": 23,
   "metadata": {},
   "outputs": [],
   "source": [
    "from PIL import Image\n",
    "import os\n",
    "import io\n",
    "\n",
    "# os.mkdir(\"../Data part 2/annotation/\")\n",
    "# os.mkdir(\"../Data part 2/annotation/N-95_Mask/\")\n",
    "# os.mkdir(\"../Data part 2/annotation/Mask worn incorrectly/\")\n",
    "# os.mkdir(\"../Data part 2/annotation/No Face Mask/\")\n",
    "# os.mkdir(\"../Data part 2/annotation/Surgical Mask/\")\n",
    "# os.mkdir(\"../Data part 2/annotation/Cloth mask/\")\n",
    "\n",
    "\n",
    "for im,la,na in zip(data_test,labels_test, name_test):\n",
    "    img = Image.open(\"../Data part 2/\"+la+\"/\"+na)\n",
    "    img.save(\"../Data part 2/annotation/\"+la+\"/\"+na)\n",
    " "
   ]
  }
 ],
 "metadata": {
  "kernelspec": {
   "display_name": "Python 3.8.10 ('base')",
   "language": "python",
   "name": "python3"
  },
  "language_info": {
   "codemirror_mode": {
    "name": "ipython",
    "version": 3
   },
   "file_extension": ".py",
   "mimetype": "text/x-python",
   "name": "python",
   "nbconvert_exporter": "python",
   "pygments_lexer": "ipython3",
   "version": "3.8.10"
  },
  "orig_nbformat": 4,
  "vscode": {
   "interpreter": {
    "hash": "02f47f39dd0ee8f21e529f9f6e1f62ff476995be84ab335999cbf3382766c67c"
   }
  }
 },
 "nbformat": 4,
 "nbformat_minor": 2
}
