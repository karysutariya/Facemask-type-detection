{
 "cells": [
  {
   "cell_type": "markdown",
   "id": "84e661ea-b07a-4ed1-8eac-fba2b5af1573",
   "metadata": {},
   "source": [
    "## Import Libraries"
   ]
  },
  {
   "cell_type": "code",
   "execution_count": 1,
   "id": "c35df6f3-7145-4722-95da-e4ac612a0bb0",
   "metadata": {},
   "outputs": [],
   "source": [
    "## Importing libraries\n",
    "import pandas as pd\n",
    "import numpy as np\n",
    "import cv2\n",
    "import os\n",
    "import glob\n",
    "from PIL import Image\n",
    "from scipy.spatial import distance\n",
    "from sklearn.model_selection import train_test_split\n",
    "from sklearn.preprocessing import MultiLabelBinarizer\n",
    "from sklearn.metrics import classification_report, confusion_matrix\n",
    "\n",
    "import torch\n",
    "import torch.nn as nn\n",
    "from torchsummary import summary\n",
    "from torch.utils.data import DataLoader\n",
    "import torchvision.transforms as transforms\n",
    "from torch.utils.data import random_split\n",
    "import torch.nn.functional as F\n",
    "\n",
    "import matplotlib.pyplot as plt\n",
    "import seaborn as sns"
   ]
  },
  {
   "cell_type": "markdown",
   "id": "5bc5d22e-5673-4cf5-b145-de2db0c11492",
   "metadata": {},
   "source": [
    "## Loading Data"
   ]
  },
  {
   "cell_type": "code",
   "execution_count": 7,
   "id": "0bd62a6f-0fbd-45c4-bfe3-450d66adadc6",
   "metadata": {},
   "outputs": [
    {
     "name": "stdout",
     "output_type": "stream",
     "text": [
      "Average for class  Cloth mask  is  461.1581508515815 X 422.3211678832117\n",
      "Average for class  Mask worn incorrectly  is  395.42 X 424.575\n",
      "Average for class  N-95_Mask  is  327.709219858156 X 289.82978723404256\n",
      "Average for class  No Face Mask  is  239.9175704989154 X 227.0108459869848\n",
      "Average for class  Surgical Mask  is  407.1542288557214 X 350.7910447761194\n"
     ]
    }
   ],
   "source": [
    "DIRECTORY = '../Data/'\n",
    "CATEGORIES = ['Cloth mask','Mask worn incorrectly','N-95_Mask','No Face Mask','Surgical Mask']\n",
    "\n",
    "data = []\n",
    "labels = []\n",
    " \n",
    "for category in CATEGORIES:\n",
    "    path = os.path.join(DIRECTORY, category)\n",
    "    average1 = 0  \n",
    "    average2 = 0\n",
    "    number =  0\n",
    "    for img in os.listdir(path):\n",
    "        img_path = os.path.join(path, img)\n",
    "        \n",
    "        try:\n",
    "            image = Image.open(img_path)\n",
    "            average1 +=image.size[0]\n",
    "            average2 +=image.size[1]\n",
    "            number +=1\n",
    "            data.append(image)\n",
    "            labels.append(category)\n",
    "            #image = train_transforms(image)\n",
    "        except:\n",
    "            pass  \n",
    "    average1 = average1 /number \n",
    "    average2 = average2 /number \n",
    "    print(\"Average for class \",category,\" is \", average1, \"X\", average2)"
   ]
  },
  {
   "cell_type": "code",
   "execution_count": 8,
   "id": "0a0a6e32-adf4-43e5-b090-f30932b72d7e",
   "metadata": {},
   "outputs": [],
   "source": [
    "total_images = len(data)\n",
    "train_dataset_size = 1580\n",
    "test_dataset_size = total_images - train_dataset_size\n",
    "test_dataset_percentage = test_dataset_size/total_images\n",
    "data_train, data_test, labels_train, labels_test = train_test_split(data, labels, test_size=test_dataset_percentage, random_state=42)\n",
    "data_train, data_val, labels_train, labels_val = train_test_split(data_train, labels_train, test_size=0.1, random_state=42)"
   ]
  },
  {
   "cell_type": "code",
   "execution_count": 4,
   "id": "1bd19d28-2fc4-4ec0-b138-70f17f1c2d5c",
   "metadata": {},
   "outputs": [],
   "source": [
    "# Imagenet standards\n",
    "mean = [0.485, 0.456, 0.406]\n",
    "std = [0.229, 0.224, 0.225]\n",
    "\n",
    "# Train uses data augmentation\n",
    "train_transforms = transforms.Compose([\n",
    "        transforms.Resize((224,224)),\n",
    "#        transforms.RandomResizedCrop(size=256, scale=(0.8, 1.0)),\n",
    "        transforms.RandomRotation(10),\n",
    "#        transforms.ColorJitter(),\n",
    "        transforms.RandomHorizontalFlip(),\n",
    "#        transforms.CenterCrop(size=224),  # Image net standards\n",
    "        transforms.ToTensor(),\n",
    "        transforms.Normalize(torch.Tensor(mean), torch.Tensor(std))  \n",
    "])\n",
    "    \n",
    "# Validation does not use augmentation\n",
    "test_transforms = transforms.Compose([\n",
    "        transforms.Resize((224,224)),\n",
    "#        transforms.CenterCrop(size=224),\n",
    "        transforms.ToTensor(),\n",
    "        transforms.Normalize(torch.Tensor(mean), torch.Tensor(std))\n",
    "    ])"
   ]
  },
  {
   "cell_type": "code",
   "execution_count": 5,
   "id": "44fe846e-2cb0-4f09-96aa-8ba754cb1dff",
   "metadata": {},
   "outputs": [],
   "source": [
    "from sklearn.preprocessing import LabelEncoder\n",
    "\n",
    "lb_make = LabelEncoder()\n",
    "labels_train = lb_make.fit_transform(labels_train)\n",
    "labels_val = lb_make.transform(labels_val)\n",
    "labels_test = lb_make.transform(labels_test)"
   ]
  },
  {
   "cell_type": "code",
   "execution_count": 6,
   "id": "efde1b1b-10ef-406f-abd2-6eafbb3bedf5",
   "metadata": {
    "tags": []
   },
   "outputs": [],
   "source": [
    "train_images = []\n",
    "train_labels = []\n",
    "\n",
    "\n",
    "for i in range(len(data_train)):\n",
    "    try:\n",
    "        train_images.append(train_transforms(data_train[i]))\n",
    "        train_labels.append(labels_train[i])\n",
    "    except:\n",
    "        pass\n",
    "    \n",
    "val_images = []\n",
    "val_labels = []\n",
    "for i in range(len(data_test)):\n",
    "    try:\n",
    "        val_images.append(test_transforms(data_val[i]))\n",
    "        val_labels.append(labels_val[i])\n",
    "    except:\n",
    "        pass\n",
    "\n",
    "test_images = []\n",
    "test_labels = []\n",
    "for i in range(len(data_test)):\n",
    "    try:\n",
    "        test_images.append(test_transforms(data_test[i]))\n",
    "        test_labels.append(labels_test[i])\n",
    "    except:\n",
    "        pass"
   ]
  },
  {
   "cell_type": "code",
   "execution_count": 7,
   "id": "a62bf0ca-8a2e-464a-8681-4c7a33ac7256",
   "metadata": {},
   "outputs": [
    {
     "name": "stderr",
     "output_type": "stream",
     "text": [
      "C:\\Users\\Maryam\\AppData\\Local\\Temp/ipykernel_9472/3818321563.py:9: UserWarning: Creating a tensor from a list of numpy.ndarrays is extremely slow. Please consider converting the list to a single numpy.ndarray with numpy.array() before converting to a tensor. (Triggered internally at  ..\\torch\\csrc\\utils\\tensor_new.cpp:201.)\n",
      "  train_images_tensor = torch.tensor(train_images_numpy)\n"
     ]
    }
   ],
   "source": [
    "train_images_numpy = [t.numpy() for t in train_images]\n",
    "val_images_numpy = [t.numpy() for t in val_images]\n",
    "test_images_numpy = [t.numpy() for t in test_images]\n",
    "\n",
    "train_labels_tensor = torch.tensor(train_labels)\n",
    "val_labels_tensor = torch.tensor(val_labels)\n",
    "test_labels_tensor = torch.tensor(test_labels)\n",
    "\n",
    "train_images_tensor = torch.tensor(train_images_numpy)\n",
    "val_images_tensor = torch.tensor(val_images_numpy)\n",
    "test_images_tensor = torch.tensor(test_images_numpy)"
   ]
  },
  {
   "cell_type": "code",
   "execution_count": 8,
   "id": "a3453bc1",
   "metadata": {},
   "outputs": [],
   "source": [
    "val_labels_tensor = val_labels_tensor.to(torch.long)"
   ]
  },
  {
   "cell_type": "code",
   "execution_count": 9,
   "id": "14399e98-b260-4ebe-a13f-6cd076666c82",
   "metadata": {},
   "outputs": [],
   "source": [
    "class CreateDataset:\n",
    "    def __init__(self, images, labels):\n",
    "        \n",
    "        self.images = images\n",
    "        self.labels = labels\n",
    "    \n",
    "    def __getitem__(self, index):\n",
    "        \n",
    "        image = self.images[index]\n",
    "        label = self.labels[index]\n",
    "        \n",
    "        return image, label\n",
    "    \n",
    "    def __len__(self):\n",
    "        return len(self.labels)"
   ]
  },
  {
   "cell_type": "code",
   "execution_count": 10,
   "id": "4e83efff-5fe8-44c7-8c6b-ecfe9d565bce",
   "metadata": {},
   "outputs": [],
   "source": [
    "train_dataset = CreateDataset(images=train_images_tensor, labels=train_labels_tensor)\n",
    "val_dataset = CreateDataset(images=val_images_tensor, labels=val_labels_tensor)\n",
    "test_dataset = CreateDataset(images=test_images_tensor, labels=test_labels_tensor)"
   ]
  },
  {
   "cell_type": "code",
   "execution_count": 11,
   "id": "51cc6329",
   "metadata": {},
   "outputs": [
    {
     "data": {
      "text/plain": [
       "tensor([0, 1, 3,  ..., 2, 4, 2])"
      ]
     },
     "execution_count": 11,
     "metadata": {},
     "output_type": "execute_result"
    }
   ],
   "source": [
    "train_labels_tensor"
   ]
  },
  {
   "cell_type": "code",
   "execution_count": 12,
   "id": "f74ae354-14cf-45f8-8a63-e4f51e9420b5",
   "metadata": {},
   "outputs": [],
   "source": [
    "batch_size_train = 64\n",
    "batch_size_val = 64\n",
    "batch_size_test = 64\n",
    "\n",
    "train_loader = torch.utils.data.DataLoader(dataset=train_dataset, \n",
    "                                           batch_size=batch_size_train,\n",
    "                                           shuffle=True,\n",
    "                                           drop_last=False)\n",
    "\n",
    "val_loader = torch.utils.data.DataLoader(dataset=val_dataset, \n",
    "                                           batch_size=batch_size_val,\n",
    "                                           shuffle=True,\n",
    "                                           drop_last=False)                                           \n",
    "\n",
    "test_loader = torch.utils.data.DataLoader(dataset=test_dataset, \n",
    "                                         batch_size=batch_size_test,\n",
    "                                         shuffle=False,\n",
    "                                         drop_last=False)"
   ]
  },
  {
   "cell_type": "code",
   "execution_count": 13,
   "id": "47e801de-4fc0-4ac5-a5b1-a8fb8854a3bf",
   "metadata": {},
   "outputs": [],
   "source": [
    "def show_transformed_images(dataset, batch_size):\n",
    "    #loader = torch.utils.data.DataLoader(dataset, batch_size, shuffle=True)\n",
    "    batch = next(iter(dataset))\n",
    "    images, labels = batch\n",
    "    \n",
    "    grid = trochvision.utils.make_grid(images, nrow = 3)\n",
    "    plt.figure(figsize=(11,11))\n",
    "    plt.imshow(np.transpose(grid, (1,2,0)))\n",
    "    print('labels: ', labels)"
   ]
  },
  {
   "cell_type": "code",
   "execution_count": 14,
   "id": "fa32971e-0e0c-4cfc-92c6-1020e1d047f8",
   "metadata": {},
   "outputs": [],
   "source": [
    "# from torchvision.utils import make_grid\n",
    "# import matplotlib.pyplot as plt\n",
    "\n",
    "# def show_batch(dl):\n",
    "#     \"\"\"Plot images grid of single batch\"\"\"\n",
    "#     for images, labels in dl:\n",
    "#         fig,ax = plt.subplots(figsize = (16,12))\n",
    "#         ax.set_xticks([])\n",
    "#         ax.set_yticks([])\n",
    "#         ax.imshow(make_grid(images,nrow=16).permute(1,2,0))\n",
    "#         break\n",
    "        \n",
    "# show_batch(train_loader)"
   ]
  },
  {
   "cell_type": "markdown",
   "id": "59e35d8b-692f-4cda-afb6-5428fe17522a",
   "metadata": {},
   "source": [
    "## Building Network"
   ]
  },
  {
   "cell_type": "code",
   "execution_count": 15,
   "id": "bb97f45d-bcfc-44c0-8745-ce318ffa0359",
   "metadata": {},
   "outputs": [],
   "source": [
    "class net_ver1(nn.Module):\n",
    "    def __init__(self):\n",
    "        super(net_ver1, self).__init__()\n",
    "        \n",
    "        self.conv1 = nn.Sequential(\n",
    "            nn.Conv2d(in_channels=3, out_channels=32, kernel_size=3, padding=1),\n",
    "            nn.LeakyReLU(inplace=True),\n",
    "            nn.BatchNorm2d(32),\n",
    "            nn.MaxPool2d(kernel_size=2, stride=2),\n",
    "        )\n",
    "        \n",
    "        \n",
    "        self.conv2 = nn.Sequential(\n",
    "            nn.Conv2d(in_channels=32, out_channels=64, kernel_size=3, padding=1),\n",
    "            nn.LeakyReLU(inplace=True),\n",
    "            nn.BatchNorm2d(64),\n",
    "            nn.MaxPool2d(kernel_size=2, stride=2),\n",
    "        )\n",
    "        \n",
    "        self.conv3 = nn.Sequential(\n",
    "            nn.Conv2d(in_channels=64, out_channels=128, kernel_size=3, padding=1),\n",
    "            nn.LeakyReLU(inplace=True),\n",
    "            nn.BatchNorm2d(128),\n",
    "            nn.MaxPool2d(2),\n",
    "        )\n",
    "        \n",
    "        self.fc_layer = nn.Sequential(\n",
    "            nn.Dropout(p=0.5),\n",
    "            nn.Linear(28 * 28 * 128, 1024),\n",
    "            nn.ReLU(inplace=True),\n",
    "            nn.Linear(1024, 512),\n",
    "            nn.ReLU(inplace=True),\n",
    "            nn.Dropout(p=0.5),\n",
    "            nn.Linear(512, 5)\n",
    "        )\n",
    "\n",
    "        # self.final_layer = nn.Softmax(dim=1)\n",
    "        \n",
    "        \n",
    "    def forward(self, x):\n",
    "        x = self.conv1(x)\n",
    "        x = self.conv2(x)\n",
    "        x = self.conv3(x)\n",
    "        x = x.view(x.size(0), -1)\n",
    "        x = self.fc_layer(x)\n",
    "        # x = self.final_layer(x)\n",
    "        # torch.argmax(x.reshape(-1))\n",
    "        return F.log_softmax(x, dim = 1)"
   ]
  },
  {
   "cell_type": "code",
   "execution_count": null,
   "id": "1c3eff54",
   "metadata": {},
   "outputs": [],
   "source": [
    "model.to(device)"
   ]
  },
  {
   "cell_type": "code",
   "execution_count": 16,
   "id": "1cafbcef-a1d1-4e79-a3fa-f02d343cee53",
   "metadata": {},
   "outputs": [],
   "source": [
    "learning_rate = 0.001\n",
    "model = net_ver1()\n",
    "criterion = nn.CrossEntropyLoss()\n",
    "optimizer = torch.optim.SGD(model.parameters(), lr=learning_rate)"
   ]
  },
  {
   "cell_type": "code",
   "execution_count": 17,
   "id": "b26467b6-c19f-49bb-ab64-c4f49af73891",
   "metadata": {},
   "outputs": [
    {
     "name": "stdout",
     "output_type": "stream",
     "text": [
      "Epoch [1/100], Train Loss: 1.5690, Train Accuracy: 28.91, Validation Loss: 1.5691, Validation Accuracy: 37.08%\n",
      "Epoch [2/100], Train Loss: 1.4175, Train Accuracy: 43.26, Validation Loss: 1.4139, Validation Accuracy: 45.90%\n",
      "Epoch [3/100], Train Loss: 1.3013, Train Accuracy: 49.00, Validation Loss: 1.2983, Validation Accuracy: 56.03%\n",
      "Epoch [4/100], Train Loss: 1.1879, Train Accuracy: 57.58, Validation Loss: 1.2032, Validation Accuracy: 57.00%\n",
      "Epoch [5/100], Train Loss: 1.1136, Train Accuracy: 59.35, Validation Loss: 1.1316, Validation Accuracy: 57.37%\n",
      "Epoch [6/100], Train Loss: 1.0441, Train Accuracy: 62.10, Validation Loss: 1.0681, Validation Accuracy: 62.47%\n",
      "Epoch [7/100], Train Loss: 0.9954, Train Accuracy: 66.11, Validation Loss: 1.1068, Validation Accuracy: 62.92%\n",
      "Epoch [8/100], Train Loss: 0.9193, Train Accuracy: 69.10, Validation Loss: 1.0629, Validation Accuracy: 63.29%\n",
      "Epoch [9/100], Train Loss: 0.8588, Train Accuracy: 71.52, Validation Loss: 1.0135, Validation Accuracy: 67.83%\n",
      "Epoch [10/100], Train Loss: 0.8408, Train Accuracy: 71.44, Validation Loss: 0.9465, Validation Accuracy: 61.88%\n",
      "Epoch [11/100], Train Loss: 0.7795, Train Accuracy: 73.98, Validation Loss: 0.9314, Validation Accuracy: 64.82%\n",
      "Epoch [12/100], Train Loss: 0.7403, Train Accuracy: 75.62, Validation Loss: 0.9125, Validation Accuracy: 69.69%\n",
      "Epoch [13/100], Train Loss: 0.6961, Train Accuracy: 77.84, Validation Loss: 0.9360, Validation Accuracy: 67.61%\n",
      "Epoch [14/100], Train Loss: 0.6816, Train Accuracy: 78.46, Validation Loss: 0.9443, Validation Accuracy: 66.16%\n",
      "Epoch [15/100], Train Loss: 0.6392, Train Accuracy: 80.36, Validation Loss: 0.8671, Validation Accuracy: 71.48%\n",
      "Epoch [16/100], Train Loss: 0.5986, Train Accuracy: 82.22, Validation Loss: 0.8634, Validation Accuracy: 73.68%\n",
      "Epoch [17/100], Train Loss: 0.5685, Train Accuracy: 83.06, Validation Loss: 0.8177, Validation Accuracy: 70.40%\n",
      "Epoch [18/100], Train Loss: 0.5442, Train Accuracy: 84.82, Validation Loss: 0.8467, Validation Accuracy: 72.64%\n",
      "Epoch [19/100], Train Loss: 0.5172, Train Accuracy: 83.94, Validation Loss: 0.8136, Validation Accuracy: 67.35%\n",
      "Epoch [20/100], Train Loss: 0.4922, Train Accuracy: 85.40, Validation Loss: 0.8376, Validation Accuracy: 71.18%\n",
      "Epoch [21/100], Train Loss: 0.4514, Train Accuracy: 86.75, Validation Loss: 0.8371, Validation Accuracy: 70.85%\n",
      "Epoch [22/100], Train Loss: 0.4283, Train Accuracy: 88.53, Validation Loss: 0.7758, Validation Accuracy: 69.84%\n",
      "Epoch [23/100], Train Loss: 0.3993, Train Accuracy: 89.10, Validation Loss: 0.7912, Validation Accuracy: 72.34%\n",
      "Epoch [24/100], Train Loss: 0.3937, Train Accuracy: 89.02, Validation Loss: 0.8290, Validation Accuracy: 71.37%\n",
      "Epoch [25/100], Train Loss: 0.3667, Train Accuracy: 91.25, Validation Loss: 0.8084, Validation Accuracy: 72.00%\n",
      "Epoch [26/100], Train Loss: 0.3361, Train Accuracy: 92.17, Validation Loss: 0.7957, Validation Accuracy: 75.43%\n",
      "Epoch [27/100], Train Loss: 0.3320, Train Accuracy: 92.40, Validation Loss: 0.6972, Validation Accuracy: 69.70%\n",
      "Epoch [28/100], Train Loss: 0.2996, Train Accuracy: 93.00, Validation Loss: 0.7634, Validation Accuracy: 70.85%\n",
      "Epoch [29/100], Train Loss: 0.2882, Train Accuracy: 93.87, Validation Loss: 0.8513, Validation Accuracy: 75.35%\n",
      "Epoch [30/100], Train Loss: 0.2646, Train Accuracy: 94.65, Validation Loss: 0.7361, Validation Accuracy: 67.80%\n",
      "Epoch [31/100], Train Loss: 0.2627, Train Accuracy: 94.60, Validation Loss: 0.7886, Validation Accuracy: 73.05%\n",
      "Epoch [32/100], Train Loss: 0.2404, Train Accuracy: 95.22, Validation Loss: 0.7424, Validation Accuracy: 72.82%\n",
      "Epoch [33/100], Train Loss: 0.2305, Train Accuracy: 95.95, Validation Loss: 0.7263, Validation Accuracy: 70.33%\n",
      "Epoch [34/100], Train Loss: 0.2143, Train Accuracy: 96.09, Validation Loss: 0.7062, Validation Accuracy: 68.54%\n",
      "Epoch [35/100], Train Loss: 0.2089, Train Accuracy: 96.71, Validation Loss: 0.7624, Validation Accuracy: 70.81%\n",
      "Epoch [36/100], Train Loss: 0.1889, Train Accuracy: 97.21, Validation Loss: 0.7738, Validation Accuracy: 72.64%\n",
      "Epoch [37/100], Train Loss: 0.1915, Train Accuracy: 96.79, Validation Loss: 0.7676, Validation Accuracy: 70.33%\n",
      "Epoch [38/100], Train Loss: 0.1669, Train Accuracy: 98.15, Validation Loss: 0.7418, Validation Accuracy: 69.99%\n",
      "Epoch [39/100], Train Loss: 0.1680, Train Accuracy: 97.92, Validation Loss: 0.7197, Validation Accuracy: 75.58%\n",
      "Epoch [40/100], Train Loss: 0.1513, Train Accuracy: 98.08, Validation Loss: 0.7476, Validation Accuracy: 70.55%\n",
      "Epoch [41/100], Train Loss: 0.1424, Train Accuracy: 98.37, Validation Loss: 0.8295, Validation Accuracy: 73.86%\n",
      "Epoch [42/100], Train Loss: 0.1368, Train Accuracy: 99.01, Validation Loss: 0.7697, Validation Accuracy: 73.83%\n",
      "Epoch [43/100], Train Loss: 0.1312, Train Accuracy: 98.72, Validation Loss: 0.7957, Validation Accuracy: 75.58%\n",
      "Epoch [44/100], Train Loss: 0.1322, Train Accuracy: 98.47, Validation Loss: 0.7600, Validation Accuracy: 70.36%\n",
      "Epoch [45/100], Train Loss: 0.1117, Train Accuracy: 98.77, Validation Loss: 0.7142, Validation Accuracy: 68.84%\n",
      "Epoch [46/100], Train Loss: 0.1134, Train Accuracy: 99.22, Validation Loss: 0.8016, Validation Accuracy: 71.07%\n",
      "Epoch [47/100], Train Loss: 0.1035, Train Accuracy: 99.29, Validation Loss: 0.8308, Validation Accuracy: 72.64%\n",
      "Epoch [48/100], Train Loss: 0.1023, Train Accuracy: 98.84, Validation Loss: 0.7825, Validation Accuracy: 72.08%\n",
      "Epoch [49/100], Train Loss: 0.0992, Train Accuracy: 99.29, Validation Loss: 0.8152, Validation Accuracy: 73.90%\n",
      "Epoch [50/100], Train Loss: 0.0964, Train Accuracy: 99.01, Validation Loss: 0.8593, Validation Accuracy: 75.91%\n",
      "Epoch [51/100], Train Loss: 0.0920, Train Accuracy: 99.08, Validation Loss: 0.7887, Validation Accuracy: 71.30%\n",
      "Epoch [52/100], Train Loss: 0.0879, Train Accuracy: 99.36, Validation Loss: 0.8212, Validation Accuracy: 74.20%\n"
     ]
    },
    {
     "ename": "KeyboardInterrupt",
     "evalue": "",
     "output_type": "error",
     "traceback": [
      "\u001b[1;31m---------------------------------------------------------------------------\u001b[0m",
      "\u001b[1;31mKeyboardInterrupt\u001b[0m                         Traceback (most recent call last)",
      "\u001b[1;32m~\\AppData\\Local\\Temp/ipykernel_9472/2842805350.py\u001b[0m in \u001b[0;36m<module>\u001b[1;34m\u001b[0m\n\u001b[0;32m     34\u001b[0m         \u001b[1;31m# Backprop and optimisation\u001b[0m\u001b[1;33m\u001b[0m\u001b[1;33m\u001b[0m\u001b[1;33m\u001b[0m\u001b[0m\n\u001b[0;32m     35\u001b[0m         \u001b[0moptimizer\u001b[0m\u001b[1;33m.\u001b[0m\u001b[0mzero_grad\u001b[0m\u001b[1;33m(\u001b[0m\u001b[1;33m)\u001b[0m\u001b[1;33m\u001b[0m\u001b[1;33m\u001b[0m\u001b[0m\n\u001b[1;32m---> 36\u001b[1;33m         \u001b[0mloss\u001b[0m\u001b[1;33m.\u001b[0m\u001b[0mbackward\u001b[0m\u001b[1;33m(\u001b[0m\u001b[1;33m)\u001b[0m\u001b[1;33m\u001b[0m\u001b[1;33m\u001b[0m\u001b[0m\n\u001b[0m\u001b[0;32m     37\u001b[0m         \u001b[0moptimizer\u001b[0m\u001b[1;33m.\u001b[0m\u001b[0mstep\u001b[0m\u001b[1;33m(\u001b[0m\u001b[1;33m)\u001b[0m\u001b[1;33m\u001b[0m\u001b[1;33m\u001b[0m\u001b[0m\n\u001b[0;32m     38\u001b[0m \u001b[1;33m\u001b[0m\u001b[0m\n",
      "\u001b[1;32mc:\\Users\\Maryam\\.conda\\envs\\PytorchEnv\\lib\\site-packages\\torch\\_tensor.py\u001b[0m in \u001b[0;36mbackward\u001b[1;34m(self, gradient, retain_graph, create_graph, inputs)\u001b[0m\n\u001b[0;32m    305\u001b[0m                 \u001b[0mcreate_graph\u001b[0m\u001b[1;33m=\u001b[0m\u001b[0mcreate_graph\u001b[0m\u001b[1;33m,\u001b[0m\u001b[1;33m\u001b[0m\u001b[1;33m\u001b[0m\u001b[0m\n\u001b[0;32m    306\u001b[0m                 inputs=inputs)\n\u001b[1;32m--> 307\u001b[1;33m         \u001b[0mtorch\u001b[0m\u001b[1;33m.\u001b[0m\u001b[0mautograd\u001b[0m\u001b[1;33m.\u001b[0m\u001b[0mbackward\u001b[0m\u001b[1;33m(\u001b[0m\u001b[0mself\u001b[0m\u001b[1;33m,\u001b[0m \u001b[0mgradient\u001b[0m\u001b[1;33m,\u001b[0m \u001b[0mretain_graph\u001b[0m\u001b[1;33m,\u001b[0m \u001b[0mcreate_graph\u001b[0m\u001b[1;33m,\u001b[0m \u001b[0minputs\u001b[0m\u001b[1;33m=\u001b[0m\u001b[0minputs\u001b[0m\u001b[1;33m)\u001b[0m\u001b[1;33m\u001b[0m\u001b[1;33m\u001b[0m\u001b[0m\n\u001b[0m\u001b[0;32m    308\u001b[0m \u001b[1;33m\u001b[0m\u001b[0m\n\u001b[0;32m    309\u001b[0m     \u001b[1;32mdef\u001b[0m \u001b[0mregister_hook\u001b[0m\u001b[1;33m(\u001b[0m\u001b[0mself\u001b[0m\u001b[1;33m,\u001b[0m \u001b[0mhook\u001b[0m\u001b[1;33m)\u001b[0m\u001b[1;33m:\u001b[0m\u001b[1;33m\u001b[0m\u001b[1;33m\u001b[0m\u001b[0m\n",
      "\u001b[1;32mc:\\Users\\Maryam\\.conda\\envs\\PytorchEnv\\lib\\site-packages\\torch\\autograd\\__init__.py\u001b[0m in \u001b[0;36mbackward\u001b[1;34m(tensors, grad_tensors, retain_graph, create_graph, grad_variables, inputs)\u001b[0m\n\u001b[0;32m    152\u001b[0m         \u001b[0mretain_graph\u001b[0m \u001b[1;33m=\u001b[0m \u001b[0mcreate_graph\u001b[0m\u001b[1;33m\u001b[0m\u001b[1;33m\u001b[0m\u001b[0m\n\u001b[0;32m    153\u001b[0m \u001b[1;33m\u001b[0m\u001b[0m\n\u001b[1;32m--> 154\u001b[1;33m     Variable._execution_engine.run_backward(\n\u001b[0m\u001b[0;32m    155\u001b[0m         \u001b[0mtensors\u001b[0m\u001b[1;33m,\u001b[0m \u001b[0mgrad_tensors_\u001b[0m\u001b[1;33m,\u001b[0m \u001b[0mretain_graph\u001b[0m\u001b[1;33m,\u001b[0m \u001b[0mcreate_graph\u001b[0m\u001b[1;33m,\u001b[0m \u001b[0minputs\u001b[0m\u001b[1;33m,\u001b[0m\u001b[1;33m\u001b[0m\u001b[1;33m\u001b[0m\u001b[0m\n\u001b[0;32m    156\u001b[0m         allow_unreachable=True, accumulate_grad=True)  # allow_unreachable flag\n",
      "\u001b[1;31mKeyboardInterrupt\u001b[0m: "
     ]
    }
   ],
   "source": [
    "num_epochs = 100\n",
    "total_step = len(train_loader)\n",
    "\n",
    "loss_list_train = []\n",
    "loss_list_val = []\n",
    "loss_train_avg = []\n",
    "loss_val_avg = []\n",
    "\n",
    "acc_list_train = []\n",
    "acc_list_val = []\n",
    "acc_train_avg = []\n",
    "acc_val_avg = []\n",
    "\n",
    "for epoch in range(num_epochs):\n",
    "    \n",
    "    model.train()\n",
    "    loss_list_train = []\n",
    "    acc_list_train = []\n",
    "    \n",
    "    for i, (images,labels) in enumerate(train_loader):\n",
    "        \n",
    "        \n",
    "        images = images.reshape(-1,3,224,224)\n",
    "        #print(images.shape, labels.shape)\n",
    "        # Forward pass\n",
    "        outputs = model(images)\n",
    "        #print(labels)\n",
    "        #print('outputs: ',outputs, outputs.shape)\n",
    "        #print(labels.shape)\n",
    "        #print(image)\n",
    "        loss = criterion(outputs, labels)\n",
    "        loss_list_train.append(loss.item())\n",
    "        \n",
    "        # Backprop and optimisation\n",
    "        optimizer.zero_grad()\n",
    "        loss.backward()\n",
    "        optimizer.step()\n",
    "        \n",
    "        # Train accuracy\n",
    "        total = labels.size(0)\n",
    "        _, predicted = torch.max(outputs.data, 1)\n",
    "        correct = (predicted == labels).sum().item()\n",
    "        acc_list_train.append(correct / total)\n",
    "        \n",
    "        # if (i + 1) % 100 == 0:\n",
    "        # print('Epoch [{}/{}], Step [{}/{}], Loss: {:.4f}, Accuracy: {:.2f}%'\n",
    "        # .format(epoch + 1, num_epochs, i + 1, total_step, loss.item(),\n",
    "        # (correct / total) * 100))\n",
    "\n",
    "\n",
    "\n",
    "    loss_train_avg.append(sum(loss_list_train)/len(train_loader))\n",
    "    acc_train_avg.append(sum(acc_list_train)/len(train_loader))\n",
    "    \n",
    "    # print('Epoch [{}/{}], Loss: {:.4f}, Accuracy: {:.2f}%'\n",
    "    # .format(epoch + 1, num_epochs, loss_train_avg[epoch],\n",
    "    #  acc_train_avg[epoch] * 100))\n",
    "\n",
    "    loss_list_val = []\n",
    "    acc_list_val = []\n",
    "    model.eval()\n",
    "\n",
    "    with torch.no_grad():\n",
    "        correct = 0\n",
    "        total = 0\n",
    "        for i, (images,labels) in enumerate(val_loader):\n",
    "            outputs = model(images)\n",
    "            loss = criterion(outputs, labels)\n",
    "            loss_list_val.append(loss.item())\n",
    "            _, predicted = torch.max(outputs.data, 1)\n",
    "            total += labels.size(0)\n",
    "            correct += (predicted == labels).sum().item()\n",
    "            acc_list_val.append(correct / total)\n",
    "            # print('Epoch [{}/{}], Step [{}/{}], Loss: {:.4f}, Accuracy: {:.2f}%'\n",
    "            #     .format(epoch + 1, num_epochs, i + 1, total_step, loss.item(),\n",
    "            #     (correct / total) * 100))\n",
    "\n",
    "        loss_val_avg.append(sum(loss_list_val)/len(val_loader))\n",
    "        acc_val_avg.append(sum(acc_list_val)/len(val_loader))\n",
    "\n",
    "        # print('Validation Accuracy of the model on the validation images: {} %'\n",
    "        # .format((correct / total) * 100))\n",
    "\n",
    "    print('Epoch [{}/{}], Train Loss: {:.4f}, Train Accuracy: {:.2f}, Validation Loss: {:.4f}, Validation Accuracy: {:.2f}%'\n",
    "    .format(epoch + 1, num_epochs, loss_train_avg[epoch], acc_train_avg[epoch] * 100,\n",
    "    loss_val_avg[epoch], acc_val_avg[epoch] * 100))"
   ]
  },
  {
   "cell_type": "code",
   "execution_count": 18,
   "id": "fe641435",
   "metadata": {},
   "outputs": [
    {
     "name": "stdout",
     "output_type": "stream",
     "text": [
      "Testing Accuracy of the model on the test images: 67.62886597938144 %\n"
     ]
    }
   ],
   "source": [
    "# Test:\n",
    "output_true = []\n",
    "output_pred = []\n",
    "\n",
    "with torch.no_grad():\n",
    "    correct = 0\n",
    "    total = 0\n",
    "    for i, (images,labels) in enumerate(test_loader):\n",
    "        output_true.append(labels)\n",
    "        outputs = model(images)\n",
    "        _, predicted = torch.max(outputs.data, 1)\n",
    "        output_pred.append(predicted)\n",
    "        total += labels.size(0)\n",
    "        correct += (predicted == labels).sum().item()\n",
    "\n",
    "    print('Testing Accuracy of the model on the test images: {} %'\n",
    "        .format((correct / total) * 100))"
   ]
  },
  {
   "cell_type": "code",
   "execution_count": 20,
   "id": "7f7e90eb",
   "metadata": {},
   "outputs": [
    {
     "data": {
      "text/plain": [
       "<matplotlib.legend.Legend at 0x22969c947c0>"
      ]
     },
     "execution_count": 20,
     "metadata": {},
     "output_type": "execute_result"
    },
    {
     "data": {
      "image/png": "[encoded data removed]",
      "text/plain": [
       "<Figure size 720x504 with 1 Axes>"
      ]
     },
     "metadata": {
      "needs_background": "light"
     },
     "output_type": "display_data"
    }
   ],
   "source": [
    "plt.figure(figsize=(10,7))\n",
    "plt.plot(loss_val_avg, 'b-1', markersize=12, markeredgewidth=3\n",
    "         , linewidth=2,label='val_loss')\n",
    "plt.plot(acc_val_avg, 'r--x', markersize=8, markeredgewidth=3\n",
    "         , linewidth=3,label='val_acc')\n",
    "plt.plot(loss_train_avg, 'c-1', markersize=12, markeredgewidth=3\n",
    "         , linewidth=2,label='training_loss')\n",
    "plt.plot(acc_train_avg, 'c-1', markersize=12, markeredgewidth=3\n",
    "         , linewidth=2,label='training_acc')\n",
    "plt.grid()\n",
    "plt.legend(loc='center right')"
   ]
  },
  {
   "cell_type": "code",
   "execution_count": 64,
   "id": "68917acc",
   "metadata": {},
   "outputs": [
    {
     "ename": "ValueError",
     "evalue": "could not broadcast input array from shape (37,) into shape (64,)",
     "output_type": "error",
     "traceback": [
      "\u001b[1;31m---------------------------------------------------------------------------\u001b[0m",
      "\u001b[1;31mValueError\u001b[0m                                Traceback (most recent call last)",
      "\u001b[1;32m~\\AppData\\Local\\Temp/ipykernel_7960/2750993956.py\u001b[0m in \u001b[0;36m<module>\u001b[1;34m\u001b[0m\n\u001b[0;32m      2\u001b[0m \u001b[0my_true\u001b[0m \u001b[1;33m=\u001b[0m \u001b[0mnp\u001b[0m\u001b[1;33m.\u001b[0m\u001b[0mzeros\u001b[0m\u001b[1;33m(\u001b[0m\u001b[0mlen\u001b[0m\u001b[1;33m(\u001b[0m\u001b[0moutput_true\u001b[0m\u001b[1;33m)\u001b[0m\u001b[1;33m*\u001b[0m\u001b[0moutput_true\u001b[0m\u001b[1;33m[\u001b[0m\u001b[1;36m0\u001b[0m\u001b[1;33m]\u001b[0m\u001b[1;33m.\u001b[0m\u001b[0mshape\u001b[0m\u001b[1;33m[\u001b[0m\u001b[1;36m0\u001b[0m\u001b[1;33m]\u001b[0m\u001b[1;33m)\u001b[0m\u001b[1;33m\u001b[0m\u001b[1;33m\u001b[0m\u001b[0m\n\u001b[0;32m      3\u001b[0m \u001b[1;32mfor\u001b[0m \u001b[0mi\u001b[0m \u001b[1;32min\u001b[0m \u001b[0mrange\u001b[0m\u001b[1;33m(\u001b[0m\u001b[0mlen\u001b[0m\u001b[1;33m(\u001b[0m\u001b[0moutput_pred\u001b[0m\u001b[1;33m)\u001b[0m\u001b[1;33m)\u001b[0m\u001b[1;33m:\u001b[0m\u001b[1;33m\u001b[0m\u001b[1;33m\u001b[0m\u001b[0m\n\u001b[1;32m----> 4\u001b[1;33m     \u001b[0my_pred\u001b[0m\u001b[1;33m[\u001b[0m\u001b[0mi\u001b[0m\u001b[1;33m*\u001b[0m\u001b[0moutput_pred\u001b[0m\u001b[1;33m[\u001b[0m\u001b[1;36m0\u001b[0m\u001b[1;33m]\u001b[0m\u001b[1;33m.\u001b[0m\u001b[0mshape\u001b[0m\u001b[1;33m[\u001b[0m\u001b[1;36m0\u001b[0m\u001b[1;33m]\u001b[0m\u001b[1;33m:\u001b[0m\u001b[1;33m(\u001b[0m\u001b[0mi\u001b[0m\u001b[1;33m+\u001b[0m\u001b[1;36m1\u001b[0m\u001b[1;33m)\u001b[0m\u001b[1;33m*\u001b[0m\u001b[0moutput_pred\u001b[0m\u001b[1;33m[\u001b[0m\u001b[1;36m0\u001b[0m\u001b[1;33m]\u001b[0m\u001b[1;33m.\u001b[0m\u001b[0mshape\u001b[0m\u001b[1;33m[\u001b[0m\u001b[1;36m0\u001b[0m\u001b[1;33m]\u001b[0m\u001b[1;33m]\u001b[0m \u001b[1;33m=\u001b[0m \u001b[0moutput_pred\u001b[0m\u001b[1;33m[\u001b[0m\u001b[0mi\u001b[0m\u001b[1;33m]\u001b[0m\u001b[1;33m\u001b[0m\u001b[1;33m\u001b[0m\u001b[0m\n\u001b[0m\u001b[0;32m      5\u001b[0m     \u001b[0my_true\u001b[0m\u001b[1;33m[\u001b[0m\u001b[0mi\u001b[0m\u001b[1;33m*\u001b[0m\u001b[0moutput_true\u001b[0m\u001b[1;33m[\u001b[0m\u001b[1;36m0\u001b[0m\u001b[1;33m]\u001b[0m\u001b[1;33m.\u001b[0m\u001b[0mshape\u001b[0m\u001b[1;33m[\u001b[0m\u001b[1;36m0\u001b[0m\u001b[1;33m]\u001b[0m\u001b[1;33m:\u001b[0m\u001b[1;33m(\u001b[0m\u001b[0mi\u001b[0m\u001b[1;33m+\u001b[0m\u001b[1;36m1\u001b[0m\u001b[1;33m)\u001b[0m\u001b[1;33m*\u001b[0m\u001b[0moutput_true\u001b[0m\u001b[1;33m[\u001b[0m\u001b[1;36m0\u001b[0m\u001b[1;33m]\u001b[0m\u001b[1;33m.\u001b[0m\u001b[0mshape\u001b[0m\u001b[1;33m[\u001b[0m\u001b[1;36m0\u001b[0m\u001b[1;33m]\u001b[0m\u001b[1;33m]\u001b[0m \u001b[1;33m=\u001b[0m \u001b[0moutput_true\u001b[0m\u001b[1;33m[\u001b[0m\u001b[0mi\u001b[0m\u001b[1;33m]\u001b[0m\u001b[1;33m\u001b[0m\u001b[1;33m\u001b[0m\u001b[0m\n\u001b[0;32m      6\u001b[0m \u001b[1;33m\u001b[0m\u001b[0m\n",
      "\u001b[1;31mValueError\u001b[0m: could not broadcast input array from shape (37,) into shape (64,)"
     ]
    }
   ],
   "source": [
    "y_pred = np.zeros(len(output_pred)*output_pred[0].shape[0])\n",
    "y_true = np.zeros(len(output_true)*output_true[0].shape[0])\n",
    "for i in range(len(output_pred)):\n",
    "    y_pred[i*output_pred[0].shape[0]:(i+1)*output_pred[0].shape[0]] = output_pred[i]\n",
    "    y_true[i*output_true[0].shape[0]:(i+1)*output_true[0].shape[0]] = output_true[i]\n",
    "    \n",
    "\n",
    "y_pred = y_pred.reshape(-1)\n",
    "y_true = y_true.reshape(-1)"
   ]
  },
  {
   "cell_type": "code",
   "execution_count": 65,
   "id": "c7c4add3",
   "metadata": {},
   "outputs": [
    {
     "data": {
      "text/plain": [
       "8"
      ]
     },
     "execution_count": 65,
     "metadata": {},
     "output_type": "execute_result"
    }
   ],
   "source": [
    "len(output_pred)"
   ]
  },
  {
   "cell_type": "code",
   "execution_count": 39,
   "id": "ae418876",
   "metadata": {},
   "outputs": [
    {
     "name": "stdout",
     "output_type": "stream",
     "text": [
      "              precision    recall  f1-score   support\n",
      "\n",
      "         0.0       0.69      0.80      0.74       139\n",
      "         1.0       0.42      0.47      0.44        96\n",
      "         2.0       0.57      0.69      0.62        89\n",
      "         3.0       0.85      0.62      0.72       112\n",
      "         4.0       0.64      0.46      0.53        76\n",
      "\n",
      "    accuracy                           0.63       512\n",
      "   macro avg       0.63      0.61      0.61       512\n",
      "weighted avg       0.65      0.63      0.63       512\n",
      "\n"
     ]
    }
   ],
   "source": [
    "from sklearn.metrics import classification_report\n",
    "print(classification_report(y_true, y_pred))"
   ]
  },
  {
   "cell_type": "code",
   "execution_count": 40,
   "id": "6e4eee24",
   "metadata": {},
   "outputs": [
    {
     "data": {
      "text/plain": [
       "array([[111,  16,   6,   3,   3],\n",
       "       [ 21,  45,  14,   4,  12],\n",
       "       [  2,  18,  61,   3,   5],\n",
       "       [ 20,  17,   6,  69,   0],\n",
       "       [  7,  12,  20,   2,  35]], dtype=int64)"
      ]
     },
     "execution_count": 40,
     "metadata": {},
     "output_type": "execute_result"
    }
   ],
   "source": [
    "from sklearn.metrics import confusion_matrix\n",
    "conf_mat = confusion_matrix(y_true, y_pred)\n",
    "print('confusiton matrix: ', conf_mat)"
   ]
  },
  {
   "cell_type": "code",
   "execution_count": null,
   "id": "1e094a89",
   "metadata": {},
   "outputs": [],
   "source": []
  },
  {
   "cell_type": "code",
   "execution_count": null,
   "id": "0b352cd8",
   "metadata": {},
   "outputs": [],
   "source": [
    "from PIL import Image\n",
    "from pathlib import Path\n",
    "import matplotlib.pyplot as plt\n",
    "import numpy as np\n",
    "\n",
    "import torch\n",
    "import torchvision.transforms as T\n",
    "\n",
    "\n",
    "plt.rcParams[\"savefig.bbox\"] = 'tight'\n",
    "orig_img = Image.open(Path('assets') / 'astronaut.jpg')\n",
    "# if you change the seed, make sure that the randomly-applied transforms\n",
    "# properly show that the image can be both transformed and *not* transformed!\n",
    "torch.manual_seed(0)\n",
    "\n",
    "\n",
    "def plot(imgs, with_orig=True, row_title=None, **imshow_kwargs):\n",
    "    if not isinstance(imgs[0], list):\n",
    "        # Make a 2d grid even if there's just 1 row\n",
    "        imgs = [imgs]\n",
    "\n",
    "    num_rows = len(imgs)\n",
    "    num_cols = len(imgs[0]) + with_orig\n",
    "    fig, axs = plt.subplots(nrows=num_rows, ncols=num_cols, squeeze=False)\n",
    "    for row_idx, row in enumerate(imgs):\n",
    "        row = [orig_img] + row if with_orig else row\n",
    "        for col_idx, img in enumerate(row):\n",
    "            ax = axs[row_idx, col_idx]\n",
    "            ax.imshow(np.asarray(img), **imshow_kwargs)\n",
    "            ax.set(xticklabels=[], yticklabels=[], xticks=[], yticks=[])\n",
    "\n",
    "    if with_orig:\n",
    "        axs[0, 0].set(title='Original image')\n",
    "        axs[0, 0].title.set_size(8)\n",
    "    if row_title is not None:\n",
    "        for row_idx in range(num_rows):\n",
    "            axs[row_idx, 0].set(ylabel=row_title[row_idx])\n",
    "\n",
    "    plt.tight_layout()"
   ]
  },
  {
   "cell_type": "code",
   "execution_count": 29,
   "id": "789e58b3",
   "metadata": {},
   "outputs": [],
   "source": [
    "class net_ver2(nn.Module):\n",
    "    def __init__(self):\n",
    "        super(net_ver2, self).__init__()\n",
    "        \n",
    "        self.conv1 = nn.Sequential(\n",
    "            nn.Conv2d(in_channels=3, out_channels=32, kernel_size=3, padding=1),\n",
    "            nn.LeakyReLU(inplace=True),\n",
    "            nn.BatchNorm2d(32),\n",
    "            nn.MaxPool2d(kernel_size=2, stride=2),\n",
    "        )\n",
    "        \n",
    "        \n",
    "        self.conv2 = nn.Sequential(\n",
    "            nn.Conv2d(in_channels=32, out_channels=64, kernel_size=3, padding=1),\n",
    "            nn.LeakyReLU(inplace=True),\n",
    "            nn.BatchNorm2d(64),\n",
    "            nn.MaxPool2d(kernel_size=2, stride=2),\n",
    "        )\n",
    "        \n",
    "        self.conv3 = nn.Sequential(\n",
    "            nn.Conv2d(in_channels=64, out_channels=128, kernel_size=3, padding=1),\n",
    "            nn.LeakyReLU(inplace=True),\n",
    "            nn.BatchNorm2d(128),\n",
    "            nn.MaxPool2d(2),\n",
    "        )\n",
    "        \n",
    "        self.fc_layer = nn.Sequential(\n",
    "            nn.Dropout(p=0.1),\n",
    "            nn.Linear(56 * 56 * 64, 1024),\n",
    "            nn.ReLU(inplace=True),\n",
    "            nn.Linear(1024, 512),\n",
    "            nn.ReLU(inplace=True),\n",
    "            nn.Dropout(p=0.1),\n",
    "            nn.Linear(512, 5)\n",
    "        )\n",
    "\n",
    "        # self.final_layer = nn.Softmax(dim=1)\n",
    "        \n",
    "        \n",
    "    def forward(self, x):\n",
    "        x = self.conv1(x)\n",
    "        x = self.conv2(x)\n",
    "        #x = self.conv3(x)\n",
    "        x = x.view(x.size(0), -1)\n",
    "        x = self.fc_layer(x)\n",
    "        # x = self.final_layer(x)\n",
    "        # torch.argmax(x.reshape(-1))\n",
    "        return F.log_softmax(x, dim = 1)"
   ]
  },
  {
   "cell_type": "code",
   "execution_count": 30,
   "id": "26b45cda",
   "metadata": {},
   "outputs": [],
   "source": [
    "learning_rate = 0.001\n",
    "model = net_ver2()\n",
    "criterion = nn.CrossEntropyLoss()\n",
    "optimizer = torch.optim.Adam(model.parameters(), lr=learning_rate)"
   ]
  },
  {
   "cell_type": "code",
   "execution_count": null,
   "id": "d4830cab",
   "metadata": {},
   "outputs": [],
   "source": [
    "def save_model(epochs, model, optimizer, criterion):\n",
    "    \"\"\"\n",
    "    Function to save the trained model to disk.\n",
    "    \"\"\"\n",
    "    print(f\"Saving final model...\")\n",
    "    torch.save({\n",
    "                'epoch': epochs,\n",
    "                'model_state_dict': model.state_dict(),\n",
    "                'optimizer_state_dict': optimizer.state_dict(),\n",
    "                'loss': criterion,\n",
    "                }, 'outputs/final_model.pth')"
   ]
  }
 ],
 "metadata": {
  "interpreter": {
   "hash": "02f47f39dd0ee8f21e529f9f6e1f62ff476995be84ab335999cbf3382766c67c"
  },
  "kernelspec": {
   "display_name": "Python 3.8.10 ('base')",
   "language": "python",
   "name": "python3"
  },
  "language_info": {
   "codemirror_mode": {
    "name": "ipython",
    "version": 3
   },
   "file_extension": ".py",
   "mimetype": "text/x-python",
   "name": "python",
   "nbconvert_exporter": "python",
   "pygments_lexer": "ipython3",
   "version": "3.8.10"
  }
 },
 "nbformat": 4,
 "nbformat_minor": 5
}
